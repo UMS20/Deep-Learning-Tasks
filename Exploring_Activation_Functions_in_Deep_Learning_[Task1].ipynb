{
  "nbformat": 4,
  "nbformat_minor": 0,
  "metadata": {
    "colab": {
      "provenance": []
    },
    "kernelspec": {
      "name": "python3",
      "display_name": "Python 3"
    },
    "language_info": {
      "name": "python"
    }
  },
  "cells": [
    {
      "cell_type": "markdown",
      "source": [
        "# Exploring Activation Functions in Deep Learning"
      ],
      "metadata": {
        "id": "pVJ_lJ3lM240"
      }
    },
    {
      "cell_type": "code",
      "execution_count": null,
      "metadata": {
        "id": "glaP_Hhi-Okz"
      },
      "outputs": [],
      "source": [
        "import tensorflow as tf\n",
        "from tensorflow.keras.datasets import mnist\n",
        "from tensorflow.keras.models import Sequential\n",
        "from tensorflow.keras.layers import Dense, Flatten\n",
        "from tensorflow.keras.utils import to_categorical\n",
        "import numpy as np"
      ]
    },
    {
      "cell_type": "markdown",
      "source": [
        "**Load the MNIST dataset**"
      ],
      "metadata": {
        "id": "Qsf-xT5l-Wum"
      }
    },
    {
      "cell_type": "code",
      "source": [
        "(x_train, y_train), (x_test, y_test) = mnist.load_data()\n",
        "x_train, x_test = x_train / 255.0, x_test / 255.0"
      ],
      "metadata": {
        "colab": {
          "base_uri": "https://localhost:8080/"
        },
        "id": "U6l9AC2M-UoN",
        "outputId": "ab1ca650-6e76-44f0-8e0d-eb8ad68771d9"
      },
      "execution_count": null,
      "outputs": [
        {
          "output_type": "stream",
          "name": "stdout",
          "text": [
            "Downloading data from https://storage.googleapis.com/tensorflow/tf-keras-datasets/mnist.npz\n",
            "\u001b[1m11490434/11490434\u001b[0m \u001b[32m━━━━━━━━━━━━━━━━━━━━\u001b[0m\u001b[37m\u001b[0m \u001b[1m0s\u001b[0m 0us/step\n"
          ]
        }
      ]
    },
    {
      "cell_type": "markdown",
      "source": [
        "**Convert labels to one-hot encoding**"
      ],
      "metadata": {
        "id": "8HMjHTsC-fSB"
      }
    },
    {
      "cell_type": "code",
      "source": [
        "y_train = to_categorical(y_train, 10)\n",
        "y_test = to_categorical(y_test, 10)"
      ],
      "metadata": {
        "id": "2bSPGZ_5-cS4"
      },
      "execution_count": null,
      "outputs": []
    },
    {
      "cell_type": "markdown",
      "source": [
        "**Building Model**"
      ],
      "metadata": {
        "id": "_1rR3lbTNjyY"
      }
    },
    {
      "cell_type": "code",
      "source": [
        "def build_model(activation_function):\n",
        "    model = Sequential([\n",
        "        Flatten(input_shape=(28, 28)),\n",
        "        Dense(128, activation=activation_function),\n",
        "        Dense(10, activation='softmax')\n",
        "    ])\n",
        "    model.compile(optimizer='adam',\n",
        "                  loss='categorical_crossentropy',\n",
        "                  metrics=['accuracy'])\n",
        "    return model"
      ],
      "metadata": {
        "id": "cTC3CFdX-j77"
      },
      "execution_count": null,
      "outputs": []
    },
    {
      "cell_type": "code",
      "source": [
        "activations = ['sigmoid', 'tanh', 'relu']\n",
        "results = {}"
      ],
      "metadata": {
        "id": "ym0Diqk4-zCD"
      },
      "execution_count": null,
      "outputs": []
    },
    {
      "cell_type": "code",
      "source": [
        "for activation in activations:\n",
        "    print(f'Training with {activation} activation...')\n",
        "    model = build_model(activation)\n",
        "    history = model.fit(x_train, y_train, epochs=10, validation_data=(x_test, y_test), verbose=2)\n",
        "    test_loss, test_acc = model.evaluate(x_test, y_test, verbose=2)\n",
        "    results[activation] = test_acc"
      ],
      "metadata": {
        "colab": {
          "base_uri": "https://localhost:8080/"
        },
        "id": "nG2TBXml-592",
        "outputId": "e7188059-527f-471f-f158-9c456f3f65c7"
      },
      "execution_count": null,
      "outputs": [
        {
          "output_type": "stream",
          "name": "stdout",
          "text": [
            "Training with sigmoid activation...\n"
          ]
        },
        {
          "output_type": "stream",
          "name": "stderr",
          "text": [
            "/usr/local/lib/python3.10/dist-packages/keras/src/layers/reshaping/flatten.py:37: UserWarning: Do not pass an `input_shape`/`input_dim` argument to a layer. When using Sequential models, prefer using an `Input(shape)` object as the first layer in the model instead.\n",
            "  super().__init__(**kwargs)\n"
          ]
        },
        {
          "output_type": "stream",
          "name": "stdout",
          "text": [
            "Epoch 1/10\n",
            "1875/1875 - 6s - 3ms/step - accuracy: 0.8954 - loss: 0.4036 - val_accuracy: 0.9362 - val_loss: 0.2236\n",
            "Epoch 2/10\n",
            "1875/1875 - 7s - 4ms/step - accuracy: 0.9433 - loss: 0.1956 - val_accuracy: 0.9523 - val_loss: 0.1618\n",
            "Epoch 3/10\n",
            "1875/1875 - 9s - 5ms/step - accuracy: 0.9585 - loss: 0.1420 - val_accuracy: 0.9614 - val_loss: 0.1288\n",
            "Epoch 4/10\n",
            "1875/1875 - 9s - 5ms/step - accuracy: 0.9682 - loss: 0.1097 - val_accuracy: 0.9647 - val_loss: 0.1110\n",
            "Epoch 5/10\n",
            "1875/1875 - 7s - 4ms/step - accuracy: 0.9744 - loss: 0.0877 - val_accuracy: 0.9699 - val_loss: 0.0968\n",
            "Epoch 6/10\n",
            "1875/1875 - 9s - 5ms/step - accuracy: 0.9803 - loss: 0.0714 - val_accuracy: 0.9742 - val_loss: 0.0888\n",
            "Epoch 7/10\n",
            "1875/1875 - 6s - 3ms/step - accuracy: 0.9836 - loss: 0.0589 - val_accuracy: 0.9746 - val_loss: 0.0828\n",
            "Epoch 8/10\n",
            "1875/1875 - 11s - 6ms/step - accuracy: 0.9867 - loss: 0.0495 - val_accuracy: 0.9753 - val_loss: 0.0793\n",
            "Epoch 9/10\n",
            "1875/1875 - 8s - 4ms/step - accuracy: 0.9890 - loss: 0.0415 - val_accuracy: 0.9774 - val_loss: 0.0751\n",
            "Epoch 10/10\n",
            "1875/1875 - 10s - 5ms/step - accuracy: 0.9917 - loss: 0.0347 - val_accuracy: 0.9766 - val_loss: 0.0736\n",
            "313/313 - 0s - 1ms/step - accuracy: 0.9766 - loss: 0.0736\n",
            "Training with tanh activation...\n",
            "Epoch 1/10\n",
            "1875/1875 - 6s - 3ms/step - accuracy: 0.9170 - loss: 0.2872 - val_accuracy: 0.9536 - val_loss: 0.1604\n",
            "Epoch 2/10\n",
            "1875/1875 - 6s - 3ms/step - accuracy: 0.9611 - loss: 0.1362 - val_accuracy: 0.9668 - val_loss: 0.1105\n",
            "Epoch 3/10\n",
            "1875/1875 - 11s - 6ms/step - accuracy: 0.9729 - loss: 0.0936 - val_accuracy: 0.9687 - val_loss: 0.0995\n",
            "Epoch 4/10\n",
            "1875/1875 - 13s - 7ms/step - accuracy: 0.9798 - loss: 0.0681 - val_accuracy: 0.9730 - val_loss: 0.0844\n",
            "Epoch 5/10\n",
            "1875/1875 - 8s - 4ms/step - accuracy: 0.9854 - loss: 0.0514 - val_accuracy: 0.9766 - val_loss: 0.0751\n",
            "Epoch 6/10\n",
            "1875/1875 - 7s - 4ms/step - accuracy: 0.9885 - loss: 0.0400 - val_accuracy: 0.9774 - val_loss: 0.0750\n",
            "Epoch 7/10\n",
            "1875/1875 - 5s - 3ms/step - accuracy: 0.9921 - loss: 0.0301 - val_accuracy: 0.9756 - val_loss: 0.0735\n",
            "Epoch 8/10\n",
            "1875/1875 - 5s - 3ms/step - accuracy: 0.9937 - loss: 0.0239 - val_accuracy: 0.9768 - val_loss: 0.0725\n",
            "Epoch 9/10\n",
            "1875/1875 - 6s - 3ms/step - accuracy: 0.9955 - loss: 0.0182 - val_accuracy: 0.9773 - val_loss: 0.0750\n",
            "Epoch 10/10\n",
            "1875/1875 - 5s - 3ms/step - accuracy: 0.9962 - loss: 0.0151 - val_accuracy: 0.9783 - val_loss: 0.0720\n",
            "313/313 - 0s - 1ms/step - accuracy: 0.9783 - loss: 0.0720\n",
            "Training with relu activation...\n",
            "Epoch 1/10\n",
            "1875/1875 - 8s - 4ms/step - accuracy: 0.9269 - loss: 0.2559 - val_accuracy: 0.9586 - val_loss: 0.1348\n",
            "Epoch 2/10\n",
            "1875/1875 - 10s - 6ms/step - accuracy: 0.9665 - loss: 0.1133 - val_accuracy: 0.9690 - val_loss: 0.1003\n",
            "Epoch 3/10\n",
            "1875/1875 - 8s - 4ms/step - accuracy: 0.9762 - loss: 0.0785 - val_accuracy: 0.9736 - val_loss: 0.0834\n",
            "Epoch 4/10\n",
            "1875/1875 - 7s - 4ms/step - accuracy: 0.9825 - loss: 0.0577 - val_accuracy: 0.9738 - val_loss: 0.0820\n",
            "Epoch 5/10\n",
            "1875/1875 - 9s - 5ms/step - accuracy: 0.9861 - loss: 0.0460 - val_accuracy: 0.9771 - val_loss: 0.0743\n",
            "Epoch 6/10\n",
            "1875/1875 - 6s - 3ms/step - accuracy: 0.9892 - loss: 0.0354 - val_accuracy: 0.9759 - val_loss: 0.0806\n",
            "Epoch 7/10\n",
            "1875/1875 - 5s - 3ms/step - accuracy: 0.9915 - loss: 0.0283 - val_accuracy: 0.9765 - val_loss: 0.0747\n",
            "Epoch 8/10\n",
            "1875/1875 - 7s - 4ms/step - accuracy: 0.9928 - loss: 0.0231 - val_accuracy: 0.9757 - val_loss: 0.0840\n",
            "Epoch 9/10\n",
            "1875/1875 - 9s - 5ms/step - accuracy: 0.9939 - loss: 0.0194 - val_accuracy: 0.9772 - val_loss: 0.0839\n",
            "Epoch 10/10\n",
            "1875/1875 - 9s - 5ms/step - accuracy: 0.9955 - loss: 0.0156 - val_accuracy: 0.9812 - val_loss: 0.0759\n",
            "313/313 - 0s - 1ms/step - accuracy: 0.9812 - loss: 0.0759\n"
          ]
        }
      ]
    },
    {
      "cell_type": "markdown",
      "source": [
        "**Bar chart of accuracy**"
      ],
      "metadata": {
        "id": "HRvfqqBMNtk9"
      }
    },
    {
      "cell_type": "code",
      "source": [
        "import matplotlib.pyplot as plt\n",
        "\n",
        "plt.bar(results.keys(), results.values(), color=['skyblue', 'limegreen', 'crimson'])\n",
        "plt.xlabel('Activation Function')\n",
        "plt.ylabel('Test Accuracy')\n",
        "plt.title('Activation Function Comparison on MNIST')\n",
        "plt.yticks(np.arange(0, 1.1, 0.1))\n",
        "plt.show()"
      ],
      "metadata": {
        "colab": {
          "base_uri": "https://localhost:8080/",
          "height": 472
        },
        "id": "q3lTtq_N_XxE",
        "outputId": "00473aa8-4367-4a1a-e03e-5a00ab4fe691"
      },
      "execution_count": null,
      "outputs": [
        {
          "output_type": "display_data",
          "data": {
            "text/plain": [
              "<Figure size 640x480 with 1 Axes>"
            ],
            "image/png": "[encoded data removed]"
          },
          "metadata": {}
        }
      ]
    },
    {
      "cell_type": "markdown",
      "source": [
        "**Dataframe for Accuracy with their Activation function**"
      ],
      "metadata": {
        "id": "Kykw38EBNxhu"
      }
    },
    {
      "cell_type": "code",
      "source": [
        "import pandas as pd\n",
        "df = pd.DataFrame(results.items(), columns=['Activation Function', 'Accuracy'])\n",
        "print(df)"
      ],
      "metadata": {
        "colab": {
          "base_uri": "https://localhost:8080/",
          "height": 0
        },
        "id": "A7MiL0g1Jkhq",
        "outputId": "dd60ca42-03fc-4a28-b6aa-3dd7298fc35b"
      },
      "execution_count": 12,
      "outputs": [
        {
          "output_type": "stream",
          "name": "stdout",
          "text": [
            "  Activation Function  Accuracy\n",
            "0             sigmoid    0.9766\n",
            "1                tanh    0.9783\n",
            "2                relu    0.9812\n"
          ]
        }
      ]
    },
    {
      "cell_type": "markdown",
      "source": [
        "# Report: Comparison of Activation Functions on MNIST Dataset"
      ],
      "metadata": {
        "id": "yLG3HL73KXXD"
      }
    },
    {
      "cell_type": "markdown",
      "source": [
        "\n",
        "\n",
        "---\n",
        "\n",
        "\n",
        "**Introduction.**\n",
        "\n",
        "Activation functions are a crucial component in neural networks, influencing how the network learns and performs. In this report, we explore the impact of three common activation functions—Sigmoid, Tanh, and ReLU—on the performance of a simple neural network trained to classify handwritten digits from the MNIST dataset.\n",
        "\n",
        "\n",
        "---\n",
        "\n",
        "\n",
        "**Activation Functions.**\n",
        "\n",
        "**Sigmoid**: Maps input values to the range [0, 1]. It is prone to the vanishing gradient problem, which can slow down the learning process, especially in deeper networks.\n",
        "\n",
        "**Tanh**: Similar to Sigmoid but maps input values to the range [-1, 1], centering the output around zero. This centering can help mitigate some of the vanishing gradient issues observed with Sigmoid.\n",
        "\n",
        "**ReLU (Rectified Linear Unit)**: Applies a simple thresholding, where any negative value is set to zero, and positive values are kept as is. ReLU is computationally efficient and helps to alleviate the vanishing gradient problem, although it can lead to \"dead neurons.\"\n",
        "\n",
        "\n",
        "---\n",
        "**Results.**\n",
        "\n",
        "The models were trained, and their validation accuracies were tracked over 10 epochs. The final validation accuracies for each activation function are as follows:\n",
        "\n",
        "Sigmoid: Validation Accuracy: 97.66%\n",
        "\n",
        "Tanh: Validation Accuracy: 97.83%\n",
        "\n",
        "ReLU: Validation Accuracy: 98.12%\n",
        "\n",
        "\n",
        "---\n",
        "\n",
        "\n",
        "**Observations.**\n",
        "\n",
        "\n",
        "\n",
        "1.   Training and Validation Accuracy:\n",
        "\n",
        "  Sigmoid: The network with Sigmoid activation showed slower convergence, with validation accuracy peaking at around 97.66%. The vanishing gradient issue may have limited the network’s ability to learn efficiently, particularly as the network became deeper.\n",
        "\n",
        "  Tanh: The Tanh activation function performed slightly better than Sigmoid, achieving a validation accuracy of 97.83%. The zero-centered outputs likely facilitated better weight updates, leading to faster convergence compared to Sigmoid.\n",
        "\n",
        "  ReLU: The network using ReLU activation outperformed the others, reaching a validation accuracy of 98.12%. The faster convergence and ability to maintain non-zero gradients contributed to its superior performance.\n",
        "2.   Computation Efficiency:\n",
        "\n",
        "  ReLU is computationally simpler compared to Sigmoid and Tanh, which involve exponential functions. This simplicity contributed to faster training times and makes ReLU a preferred choice in practical applications.\n",
        "\n",
        "\n",
        "---\n",
        "\n",
        "\n",
        "**Conclusion and Recommendation.**\n",
        "\n",
        "Based on the experiments conducted, ReLU is the best-performing activation function for the MNIST dataset in this simple neural network. It achieved the highest validation accuracy, demonstrated strong generalization capabilities, and is computationally efficient.\n",
        "\n",
        "For most image classification tasks, especially those involving deep learning models, ReLU should be the default choice for hidden layer activation. Its ability to avoid the vanishing gradient problem and its computational efficiency make it well-suited for a wide range of applications.\n",
        "\n",
        "\n",
        "---\n",
        "\n"
      ],
      "metadata": {
        "id": "fYRT2c0EKctd"
      }
    }
  ]
}